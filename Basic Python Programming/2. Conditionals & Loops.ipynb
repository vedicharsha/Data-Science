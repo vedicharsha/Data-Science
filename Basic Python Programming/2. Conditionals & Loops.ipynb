{
 "cells": [
  {
   "cell_type": "markdown",
   "id": "a937d85f",
   "metadata": {},
   "source": [
    "### Applied If-Else Statements (Conditionals)"
   ]
  },
  {
   "cell_type": "markdown",
   "id": "88cf9af1",
   "metadata": {},
   "source": [
    "#### True or False ?"
   ]
  },
  {
   "cell_type": "code",
   "execution_count": 1,
   "id": "7e4f7172",
   "metadata": {},
   "outputs": [
    {
     "name": "stdout",
     "output_type": "stream",
     "text": [
      "It is printed since 'a' is assigned with True boolean value\n"
     ]
    }
   ],
   "source": [
    "a = True\n",
    "if a:\n",
    "    print(\"It is printed since 'a' is assigned with True boolean value\")\n",
    "else:\n",
    "    print(\"a is False!\")\n"
   ]
  },
  {
   "cell_type": "code",
   "execution_count": 2,
   "id": "a17cfae8",
   "metadata": {},
   "outputs": [
    {
     "name": "stdout",
     "output_type": "stream",
     "text": [
      "a is False!\n"
     ]
    }
   ],
   "source": [
    "a = False\n",
    "if a:\n",
    "    print(\"It is printed since 'a' is assigned with True boolean value\")\n",
    "else:\n",
    "    print(\"a is False!\")"
   ]
  },
  {
   "cell_type": "markdown",
   "id": "2116c2df",
   "metadata": {},
   "source": [
    "#### Check Ranges"
   ]
  },
  {
   "cell_type": "code",
   "execution_count": 3,
   "id": "52b7173e",
   "metadata": {},
   "outputs": [
    {
     "name": "stdout",
     "output_type": "stream",
     "text": [
      "medium\n"
     ]
    }
   ],
   "source": [
    "n = 15\n",
    "#Check If the number is between 1 to 10\n",
    "if n>=1 and n<=10:\n",
    "    print(\"too low\")\n",
    "\n",
    "#Check If the number is between 11 to 20\n",
    "elif n>=10 and n<=20:\n",
    "    print(\"medium\")\n",
    "\n",
    "#Check If the number is between 21 to 30\n",
    "elif n>=20 and n<=30:\n",
    "    print(\"large\")\n",
    "#Check if the number is greater than 30 \n",
    "else:\n",
    "    print(\"too large\")"
   ]
  },
  {
   "cell_type": "markdown",
   "id": "e6b542bc",
   "metadata": {},
   "source": [
    "### The Typecasting"
   ]
  },
  {
   "cell_type": "code",
   "execution_count": 5,
   "id": "3d604b52",
   "metadata": {},
   "outputs": [
    {
     "name": "stdout",
     "output_type": "stream",
     "text": [
      "<class 'int'>\n"
     ]
    }
   ],
   "source": [
    "a = '55'\n",
    "b = int(2.9)\n",
    "print(type(b))"
   ]
  },
  {
   "cell_type": "code",
   "execution_count": 6,
   "id": "527660b4",
   "metadata": {},
   "outputs": [
    {
     "name": "stdout",
     "output_type": "stream",
     "text": [
      "2.0\n",
      "<class 'float'>\n"
     ]
    }
   ],
   "source": [
    "c = float(b) #typecasting: Changing the value's data type\n",
    "print(c)\n",
    "print(type(c))"
   ]
  },
  {
   "cell_type": "markdown",
   "id": "95c6ec1a",
   "metadata": {},
   "source": [
    "### Applied \"While\" Loop"
   ]
  },
  {
   "cell_type": "markdown",
   "id": "4de27758",
   "metadata": {},
   "source": [
    "#### Reverse of a number"
   ]
  },
  {
   "cell_type": "code",
   "execution_count": 8,
   "id": "bc626781",
   "metadata": {},
   "outputs": [
    {
     "name": "stdout",
     "output_type": "stream",
     "text": [
      "576\n",
      "675\n"
     ]
    }
   ],
   "source": [
    "def reverse(n): # more about functions in next module\n",
    "    rev = 0\n",
    "    while(n >0):\n",
    "        rem = n % 10\n",
    "        rev = (rev * 10) + rem\n",
    "        n = n//10\n",
    "    return rev        \n",
    "n=int(input())\n",
    "result = reverse(n)\n",
    "print(result)"
   ]
  },
  {
   "cell_type": "markdown",
   "id": "22846a17",
   "metadata": {},
   "source": [
    "### The Break Keyword"
   ]
  },
  {
   "cell_type": "code",
   "execution_count": 9,
   "id": "dc5e7bf4",
   "metadata": {},
   "outputs": [
    {
     "name": "stdout",
     "output_type": "stream",
     "text": [
      "1\n",
      "2\n",
      "3\n",
      "4\n"
     ]
    }
   ],
   "source": [
    "i = 1\n",
    "while i < 10:\n",
    "    if i == 5:\n",
    "        break #terminates the loop\n",
    "    print(i)\n",
    "    i = i + 1"
   ]
  },
  {
   "cell_type": "markdown",
   "id": "517b9341",
   "metadata": {},
   "source": [
    "#### Determine if the number is prime"
   ]
  },
  {
   "cell_type": "code",
   "execution_count": 14,
   "id": "277b674d",
   "metadata": {},
   "outputs": [
    {
     "name": "stdout",
     "output_type": "stream",
     "text": [
      "5\n",
      "Prime\n"
     ]
    }
   ],
   "source": [
    "n = int(input())\n",
    "a = 2\n",
    "flag = False\n",
    "while a < n:\n",
    "    if (n % a == 0):\n",
    "        flag = True\n",
    "        break\n",
    "    a = a + 1\n",
    "\n",
    "if flag:\n",
    "    print(\"Not Prime\")\n",
    "else:\n",
    "    print(\"Prime\")"
   ]
  },
  {
   "cell_type": "markdown",
   "id": "3b5aa717",
   "metadata": {},
   "source": [
    "### The \"For\" Loop"
   ]
  },
  {
   "cell_type": "markdown",
   "id": "105801a6",
   "metadata": {},
   "source": [
    "Implementing the above 'prime number check' program with \"for-loop\" instead of while-loop"
   ]
  },
  {
   "cell_type": "code",
   "execution_count": 15,
   "id": "916c1b87",
   "metadata": {},
   "outputs": [
    {
     "name": "stdout",
     "output_type": "stream",
     "text": [
      "5\n",
      "Prime\n"
     ]
    }
   ],
   "source": [
    "n = int(input())\n",
    "flag = False\n",
    "for a in range(2, n, 1):\n",
    "    if n % a == 0:\n",
    "        flag = True\n",
    "        break\n",
    "if flag:\n",
    "    print(\"Not Prime\")\n",
    "else:\n",
    "    print(\"Prime\")"
   ]
  },
  {
   "cell_type": "markdown",
   "id": "b41a3aa5",
   "metadata": {},
   "source": [
    "### Else keyword with Loops"
   ]
  },
  {
   "cell_type": "code",
   "execution_count": 21,
   "id": "740aefd8",
   "metadata": {},
   "outputs": [
    {
     "name": "stdout",
     "output_type": "stream",
     "text": [
      "1\n",
      "2\n",
      "3\n",
      "4\n",
      "5\n",
      "6\n",
      "7\n",
      "8\n",
      "9\n",
      "Finished\n"
     ]
    }
   ],
   "source": [
    "i = 1\n",
    "while i < 10:\n",
    "    print(i)\n",
    "    i = i + 1\n",
    "else:                  #breaks the loop\n",
    "    print(\"Finished\")"
   ]
  },
  {
   "cell_type": "code",
   "execution_count": 22,
   "id": "94e6e219",
   "metadata": {},
   "outputs": [
    {
     "name": "stdout",
     "output_type": "stream",
     "text": [
      "1\n",
      "2\n",
      "3\n",
      "4\n"
     ]
    }
   ],
   "source": [
    "for i in range (1, 10): #the range function\n",
    "    if i == 5:\n",
    "        break\n",
    "    print(i)\n",
    "else:\n",
    "    print(\"You're welcome\")"
   ]
  },
  {
   "cell_type": "code",
   "execution_count": 23,
   "id": "17a07b00",
   "metadata": {},
   "outputs": [
    {
     "name": "stdout",
     "output_type": "stream",
     "text": [
      "1 2 3 4 Else is also printed\n"
     ]
    }
   ],
   "source": [
    "# Predict the Output\n",
    "i=1\n",
    "while i<5:\n",
    "    if i == 6:\n",
    "        break\n",
    "    print(i,end=\" \")\n",
    "    i = i + 1\n",
    "else:\n",
    "    print(\"Else is also printed\")"
   ]
  },
  {
   "cell_type": "code",
   "execution_count": 24,
   "id": "9d5c74d5",
   "metadata": {},
   "outputs": [
    {
     "name": "stdout",
     "output_type": "stream",
     "text": [
      "1 2 "
     ]
    }
   ],
   "source": [
    "# Predict the Output\n",
    "i=1\n",
    "while i<5:\n",
    "    if i == 3:\n",
    "        break\n",
    "    print(i,end= \" \")\n",
    "    i = i + 1\n",
    "else:\n",
    "    print(\"Else is also printed\")"
   ]
  },
  {
   "cell_type": "markdown",
   "id": "31113821",
   "metadata": {},
   "source": [
    "### Skipping the iteration: Continue Keyword"
   ]
  },
  {
   "cell_type": "code",
   "execution_count": 25,
   "id": "aeff48fc",
   "metadata": {},
   "outputs": [
    {
     "name": "stdout",
     "output_type": "stream",
     "text": [
      "1 2 3 4 5 6 7 8 9 10 11 12 13 14 15 16 17 18 19 20 21 22 23 24 25 26 27 28 30 31 32 33 34 35 36 37 38 39 40 41 42 43 44 45 46 47 48 49 50 51 52 53 54 55 56 57 58 59 60 61 62 63 64 65 66 67 68 69 70 71 72 73 74 75 76 77 78 79 80 81 82 83 84 85 86 87 88 89 90 91 92 93 94 95 96 97 98 99 100 "
     ]
    }
   ],
   "source": [
    "for i in range(1, 101, 1):\n",
    "    if i == 29:\n",
    "        continue #29 will be missing in the output\n",
    "    print(i, end = ' ')"
   ]
  },
  {
   "cell_type": "code",
   "execution_count": 27,
   "id": "dc4bcb25",
   "metadata": {},
   "outputs": [
    {
     "name": "stdout",
     "output_type": "stream",
     "text": [
      "55\n",
      "2 2 4 4 6 6 8 8 10 10 12 12 14 16 16 18 18 20 20 22 22 24 24 26 26 28 30 30 32 32 34 34 36 36 38 38 40 40 42 44 44 46 46 48 48 50 50 52 52 54 54 "
     ]
    }
   ],
   "source": [
    "# All even numbers are printed twice but multiples of 7 should be printed only once\n",
    "n = int(input())\n",
    "for i in range(2, n + 1, 2):\n",
    "    print(i, end = ' ')\n",
    "    if i % 7 == 0:\n",
    "        continue\n",
    "    print(i, end = ' ')"
   ]
  }
 ],
 "metadata": {
  "kernelspec": {
   "display_name": "Python 3 (ipykernel)",
   "language": "python",
   "name": "python3"
  },
  "language_info": {
   "codemirror_mode": {
    "name": "ipython",
    "version": 3
   },
   "file_extension": ".py",
   "mimetype": "text/x-python",
   "name": "python",
   "nbconvert_exporter": "python",
   "pygments_lexer": "ipython3",
   "version": "3.9.12"
  }
 },
 "nbformat": 4,
 "nbformat_minor": 5
}
